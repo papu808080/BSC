{
 "cells": [
  {
   "cell_type": "code",
   "execution_count": 1,
   "id": "46e1696f",
   "metadata": {},
   "outputs": [
    {
     "name": "stdout",
     "output_type": "stream",
     "text": [
      "\n",
      "=== Boolean Retrieval ===\n",
      "Query: 'retrieval AND document' → Docs: [2, 3]\n",
      "Query: 'document OR indexing' → Docs: [2, 3, 4]\n",
      "Query: 'retrieval NOT indexing' → Docs: [3]\n",
      "\n",
      "=== Vector Space Retrieval ===\n",
      "Query: 'document retrieval' → Ranked: [(3, np.float64(0.4378)), (2, np.float64(0.4256))]\n",
      "Query: 'web mining' → Ranked: [(3, np.float64(0.5)), (1, np.float64(0.1954))]\n",
      "Query: 'structured data' → Ranked: [(1, np.float64(0.566))]\n"
     ]
    }
   ],
   "source": [
    "from collections import defaultdict\n",
    "import numpy as np\n",
    "from sklearn.feature_extraction.text import TfidfVectorizer\n",
    "\n",
    "class BooleanRetrieval:\n",
    "    def __init__(self, documents):\n",
    "        self.documents = documents\n",
    "        self.index = defaultdict(set)\n",
    "        for doc_id, text in documents.items():\n",
    "            for word in set(text.lower().split()):\n",
    "                self.index[word].add(doc_id)\n",
    "\n",
    "    def search(self, query):\n",
    "        terms = query.lower().split()\n",
    "        result = set(self.documents.keys())\n",
    "        op = \"AND\"\n",
    "\n",
    "        for term in terms:\n",
    "            if term in [\"and\", \"or\", \"not\"]:\n",
    "                op = term.upper()\n",
    "            else:\n",
    "                term_docs = self.index.get(term, set())\n",
    "                if op == \"AND\":\n",
    "                    result &= term_docs\n",
    "                elif op == \"OR\":\n",
    "                    result |= term_docs\n",
    "                elif op == \"NOT\":\n",
    "                    result -= term_docs\n",
    "        return result\n",
    "\n",
    "class VectorRetrieval:\n",
    "    def __init__(self, documents):\n",
    "        self.doc_ids = list(documents.keys())\n",
    "        self.vectorizer = TfidfVectorizer()\n",
    "        self.doc_vectors = self.vectorizer.fit_transform(documents.values())\n",
    "\n",
    "    def search(self, query):\n",
    "        query_vector = self.vectorizer.transform([query])\n",
    "        scores = np.dot(self.doc_vectors, query_vector.T).toarray().flatten()\n",
    "        return [(self.doc_ids[i], round(scores[i], 4))\n",
    "                for i in range(len(self.doc_ids)) if scores[i] > 0]\n",
    "\n",
    "docs = {\n",
    "    1: \"Web content extraction involves retrieving structured data\",\n",
    "    2: \"Search engines use document indexing for efficient retrieval\",\n",
    "    3: \"Document retrieval is important in web mining applications\",\n",
    "    4: \"Indexing helps in retrieving relevant documents based on query terms\"\n",
    "}\n",
    "\n",
    "print(\"\\n=== Boolean Retrieval ===\")\n",
    "boolean_engine = BooleanRetrieval(docs)\n",
    "for query in [\"retrieval AND document\", \"document OR indexing\", \"retrieval NOT indexing\"]:\n",
    "    result = boolean_engine.search(query)\n",
    "    print(f\"Query: '{query}' → Docs: {sorted(result) or 'None'}\")\n",
    "\n",
    "print(\"\\n=== Vector Space Retrieval ===\")\n",
    "vector_engine = VectorRetrieval(docs)\n",
    "for query in [\"document retrieval\", \"web mining\", \"structured data\"]:\n",
    "    result = vector_engine.search(query)\n",
    "    print(f\"Query: '{query}' → Ranked: {sorted(result, key=lambda x: x[1], reverse=True)}\")"
   ]
  }
 ],
 "metadata": {
  "kernelspec": {
   "display_name": "Python 3",
   "language": "python",
   "name": "python3"
  },
  "language_info": {
   "codemirror_mode": {
    "name": "ipython",
    "version": 3
   },
   "file_extension": ".py",
   "mimetype": "text/x-python",
   "name": "python",
   "nbconvert_exporter": "python",
   "pygments_lexer": "ipython3",
   "version": "3.11.9"
  }
 },
 "nbformat": 4,
 "nbformat_minor": 5
}
