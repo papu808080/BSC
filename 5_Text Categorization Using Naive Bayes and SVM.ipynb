{
 "cells": [
  {
   "cell_type": "code",
   "execution_count": 1,
   "id": "72433365",
   "metadata": {},
   "outputs": [
    {
     "name": "stdout",
     "output_type": "stream",
     "text": [
      "\n",
      "=== Naïve Bayes Classifier Performance ===\n",
      "Accuracy: 0.9069\n",
      "Classification Report:\n",
      "                  precision    recall  f1-score   support\n",
      "\n",
      "    alt.atheism       0.97      0.84      0.90       174\n",
      "rec.motorcycles       0.94      0.93      0.93       192\n",
      "  comp.graphics       0.84      0.96      0.90       186\n",
      "        sci.med       0.90      0.90      0.90       200\n",
      "\n",
      "       accuracy                           0.91       752\n",
      "      macro avg       0.91      0.91      0.91       752\n",
      "   weighted avg       0.91      0.91      0.91       752\n",
      "\n",
      "\n",
      "=== SVM Classifier Performance ===\n",
      "Accuracy: 0.9029\n",
      "Classification Report:\n",
      "                  precision    recall  f1-score   support\n",
      "\n",
      "    alt.atheism       0.95      0.84      0.89       174\n",
      "rec.motorcycles       0.99      0.90      0.94       192\n",
      "  comp.graphics       0.81      0.95      0.87       186\n",
      "        sci.med       0.89      0.92      0.90       200\n",
      "\n",
      "       accuracy                           0.90       752\n",
      "      macro avg       0.91      0.90      0.90       752\n",
      "   weighted avg       0.91      0.90      0.90       752\n",
      "\n"
     ]
    }
   ],
   "source": [
    "from sklearn.datasets import fetch_20newsgroups\n",
    "from sklearn.feature_extraction.text import TfidfVectorizer\n",
    "from sklearn.model_selection import train_test_split\n",
    "from sklearn.naive_bayes import MultinomialNB\n",
    "from sklearn.svm import SVC\n",
    "from sklearn.metrics import accuracy_score, classification_report\n",
    "\n",
    "categories = ['alt.atheism', 'rec.motorcycles', 'comp.graphics', 'sci.med']\n",
    "newsgroups = fetch_20newsgroups(subset='all', categories=categories, remove=('headers', 'footers', 'quotes'))\n",
    "\n",
    "X = TfidfVectorizer(stop_words='english').fit_transform(newsgroups.data)\n",
    "y = newsgroups.target\n",
    "X_train, X_test, y_train, y_test = train_test_split(X, y, test_size=0.2, random_state=42)\n",
    "\n",
    "for name, model in [(\"Naïve Bayes\", MultinomialNB()), (\"SVM\", SVC(kernel='linear'))]:\n",
    "    model.fit(X_train, y_train)\n",
    "    y_pred = model.predict(X_test)\n",
    "    print(f\"\\n=== {name} Classifier Performance ===\")\n",
    "    print(f\"Accuracy: {accuracy_score(y_test, y_pred):.4f}\")\n",
    "    print(\"Classification Report:\\n\", classification_report(y_test, y_pred, target_names=categories))"
   ]
  }
 ],
 "metadata": {
  "kernelspec": {
   "display_name": "Python 3",
   "language": "python",
   "name": "python3"
  },
  "language_info": {
   "codemirror_mode": {
    "name": "ipython",
    "version": 3
   },
   "file_extension": ".py",
   "mimetype": "text/x-python",
   "name": "python",
   "nbconvert_exporter": "python",
   "pygments_lexer": "ipython3",
   "version": "3.11.9"
  }
 },
 "nbformat": 4,
 "nbformat_minor": 5
}
