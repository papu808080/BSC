{
 "cells": [
  {
   "cell_type": "code",
   "execution_count": 1,
   "id": "1b6c684a",
   "metadata": {},
   "outputs": [
    {
     "name": "stdout",
     "output_type": "stream",
     "text": [
      "\n",
      "=== PageRank Scores ===\n",
      "Page C: 0.394149\n",
      "Page A: 0.372526\n",
      "Page B: 0.195824\n",
      "Page D: 0.037500\n"
     ]
    }
   ],
   "source": [
    "import numpy as np\n",
    "\n",
    "def initialize_pagerank(graph):\n",
    "    num_nodes = len(graph)\n",
    "    return {node: 1 / num_nodes for node in graph}\n",
    "\n",
    "def compute_pagerank(graph, damping_factor=0.85, max_iterations=100, tolerance=1e-6):\n",
    "    num_nodes = len(graph)\n",
    "    pagerank = initialize_pagerank(graph)\n",
    "    new_pagerank = pagerank.copy()\n",
    "\n",
    "    for _ in range(max_iterations):\n",
    "        for node in graph:\n",
    "            new_pagerank[node] = (1 - damping_factor) / num_nodes + damping_factor * sum(\n",
    "                pagerank[incoming] / len(graph[incoming]) for incoming in graph if node in graph[incoming]\n",
    "            )\n",
    "\n",
    "        if all(abs(new_pagerank[node] - pagerank[node]) < tolerance for node in pagerank):\n",
    "            break\n",
    "        pagerank = new_pagerank.copy()\n",
    "\n",
    "    return pagerank\n",
    "\n",
    "web_graph = {\n",
    "    'A': {'B', 'C'},\n",
    "    'B': {'C'},\n",
    "    'C': {'A'},\n",
    "    'D': {'C'}\n",
    "}\n",
    "\n",
    "pagerank_scores = compute_pagerank(web_graph)\n",
    "\n",
    "print(\"\\n=== PageRank Scores ===\")\n",
    "for page, score in sorted(pagerank_scores.items(), key=lambda x: x[1], reverse=True):\n",
    "    print(f\"Page {page}: {score:.6f}\")"
   ]
  }
 ],
 "metadata": {
  "kernelspec": {
   "display_name": "Python 3",
   "language": "python",
   "name": "python3"
  },
  "language_info": {
   "codemirror_mode": {
    "name": "ipython",
    "version": 3
   },
   "file_extension": ".py",
   "mimetype": "text/x-python",
   "name": "python",
   "nbconvert_exporter": "python",
   "pygments_lexer": "ipython3",
   "version": "3.11.9"
  }
 },
 "nbformat": 4,
 "nbformat_minor": 5
}
