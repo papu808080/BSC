{
 "cells": [
  {
   "cell_type": "code",
   "execution_count": 1,
   "id": "6ad3caaa",
   "metadata": {},
   "outputs": [
    {
     "name": "stdout",
     "output_type": "stream",
     "text": [
      "Query: 'retrieval' -> Documents: [2, 3]\n",
      "Query: 'document indexing' -> Documents: [2]\n",
      "Query: 'web mining' -> Documents: [3]\n",
      "Query: 'structured data' -> Documents: [1]\n"
     ]
    }
   ],
   "source": [
    "from collections import defaultdict\n",
    "\n",
    "class InvertedIndex:\n",
    "    def __init__(self, documents):\n",
    "        self.documents = documents\n",
    "        self.index = defaultdict(set)\n",
    "        self.build_index()\n",
    "\n",
    "    def build_index(self):\n",
    "        for doc_id, text in self.documents.items():\n",
    "            for word in text.lower().split():\n",
    "                self.index[word].add(doc_id)\n",
    "\n",
    "    def search(self, query):\n",
    "        query_words = query.lower().split()\n",
    "\n",
    "        if not query_words:\n",
    "            return set()\n",
    "\n",
    "        result_sets = [self.index[word] for word in query_words if word in self.index]\n",
    "\n",
    "        if not result_sets:\n",
    "            return set()\n",
    "\n",
    "        return set.intersection(*result_sets)\n",
    "\n",
    "\n",
    "documents = {\n",
    "    1: \"Web Content extraction involves retrieving structured data\",\n",
    "    2: \"Search engines use document indexing for efficient retrieval\",\n",
    "    3: \"Document retrieval is important in web mining applications\",\n",
    "    4: \"Indexing helps in retrieving relevant documents based on query terms\"\n",
    "}\n",
    "\n",
    "index = InvertedIndex(documents)\n",
    "\n",
    "queries = [\"retrieval\", \"document indexing\", \"web mining\", \"structured data\"]\n",
    "\n",
    "for query in queries:\n",
    "    result = index.search(query)\n",
    "    print(f\"Query: '{query}' -> Documents: {sorted(result) if result else 'No Matching Documents'}\")"
   ]
  }
 ],
 "metadata": {
  "kernelspec": {
   "display_name": "Python 3",
   "language": "python",
   "name": "python3"
  },
  "language_info": {
   "codemirror_mode": {
    "name": "ipython",
    "version": 3
   },
   "file_extension": ".py",
   "mimetype": "text/x-python",
   "name": "python",
   "nbconvert_exporter": "python",
   "pygments_lexer": "ipython3",
   "version": "3.11.9"
  }
 },
 "nbformat": 4,
 "nbformat_minor": 5
}
