{
 "cells": [
  {
   "cell_type": "code",
   "execution_count": 1,
   "id": "b29d3d59",
   "metadata": {},
   "outputs": [
    {
     "name": "stdout",
     "output_type": "stream",
     "text": [
      "\n",
      "=== IR Evaluation Metrics ===\n",
      "True Positives: 3, False Positives: 2, False Negatives: 2\n",
      "Precision: 0.6000, Recall: 0.6000, F1-Score: 0.6000\n"
     ]
    }
   ],
   "source": [
    "def evaluate_retrieval(relevant_docs, retrieved_docs):\n",
    "    tp = len(relevant_docs & retrieved_docs)\n",
    "    fp = len(retrieved_docs - relevant_docs)\n",
    "    fn = len(relevant_docs - retrieved_docs)\n",
    "\n",
    "    precision = tp / (tp + fp) if (tp + fp) > 0 else 0.0\n",
    "    recall = tp / (tp + fn) if (tp + fn) > 0 else 0.0\n",
    "    f1 = 2 * (precision * recall) / (precision + recall) if (precision + recall) > 0 else 0.0\n",
    "\n",
    "    return tp, fp, fn, precision, recall, f1\n",
    "\n",
    "relevant_documents = {1, 2, 3, 5, 7}\n",
    "retrieved_documents = {1, 2, 4, 5, 6}\n",
    "\n",
    "tp, fp, fn, precision, recall, f1_score = evaluate_retrieval(relevant_documents, retrieved_documents)\n",
    "\n",
    "print(\"\\n=== IR Evaluation Metrics ===\")\n",
    "print(f\"True Positives: {tp}, False Positives: {fp}, False Negatives: {fn}\")\n",
    "print(f\"Precision: {precision:.4f}, Recall: {recall:.4f}, F1-Score: {f1_score:.4f}\")"
   ]
  }
 ],
 "metadata": {
  "kernelspec": {
   "display_name": "Python 3",
   "language": "python",
   "name": "python3"
  },
  "language_info": {
   "codemirror_mode": {
    "name": "ipython",
    "version": 3
   },
   "file_extension": ".py",
   "mimetype": "text/x-python",
   "name": "python",
   "nbconvert_exporter": "python",
   "pygments_lexer": "ipython3",
   "version": "3.11.9"
  }
 },
 "nbformat": 4,
 "nbformat_minor": 5
}
